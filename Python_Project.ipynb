{
  "nbformat": 4,
  "nbformat_minor": 0,
  "metadata": {
    "colab": {
      "provenance": []
    },
    "kernelspec": {
      "name": "python3",
      "display_name": "Python 3"
    },
    "language_info": {
      "name": "python"
    }
  },
  "cells": [
    {
      "cell_type": "markdown",
      "source": [],
      "metadata": {
        "id": "D82kGpPDQRRK"
      }
    },
    {
      "cell_type": "code",
      "source": [
        "# import the time module\n",
        "import time\n",
        "\n",
        "# define the countdown func.\n",
        "def countdown(t):\n",
        "\n",
        "    while t:\n",
        "        mins, secs = divmod(t, 60)\n",
        "        timer = '{:02d}:{:02d}'.format(mins, secs)\n",
        "        print(timer, end=\"\\r\")\n",
        "        time.sleep(1)\n",
        "        t -= 1\n",
        "\n",
        "    print('Fire in the hole!!')\n",
        "\n",
        "\n",
        "# input time in seconds\n",
        "t = input(\"Enter the time in seconds: \")\n",
        "\n",
        "# function call\n",
        "countdown(int(t))"
      ],
      "metadata": {
        "colab": {
          "base_uri": "https://localhost:8080/"
        },
        "id": "9o6MCXDc1Wz8",
        "outputId": "d29e72c1-e220-4f59-fd10-7d45fc0b3a90"
      },
      "execution_count": 9,
      "outputs": [
        {
          "output_type": "stream",
          "name": "stdout",
          "text": [
            "Enter the time in seconds: 10\n",
            "Fire in the hole!!\n"
          ]
        }
      ]
    },
    {
      "cell_type": "code",
      "source": [],
      "metadata": {
        "id": "SlPwhYl-0cmj"
      },
      "execution_count": null,
      "outputs": []
    }
  ]
}